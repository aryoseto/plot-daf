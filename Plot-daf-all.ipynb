{
 "cells": [
  {
   "cell_type": "markdown",
   "metadata": {},
   "source": [
    "# Plot Daf"
   ]
  },
  {
   "cell_type": "markdown",
   "metadata": {},
   "source": [
    "## Data preparation"
   ]
  },
  {
   "cell_type": "code",
   "execution_count": 47,
   "metadata": {},
   "outputs": [],
   "source": [
    "import pandas as pd\n",
    "import numpy as np"
   ]
  },
  {
   "cell_type": "code",
   "execution_count": 48,
   "metadata": {},
   "outputs": [],
   "source": [
    "#Function to prepare SESAM prepost output into python list\n",
    "def readSesamOutput(filename) :\n",
    "    with open(filename, 'r') as toread:\n",
    "        outlist = []\n",
    "        for line in toread :\n",
    "            if len(line.split()) == 8 :\n",
    "                if is_number(line.split()[3]) :\n",
    "                    name = line.split()[0]\n",
    "                    wavedir = line.split()[1]\n",
    "                    froude = line.split()[2]\n",
    "                    outlist.append(line.split())\n",
    "            elif len(line.split()) == 5 :\n",
    "                if is_number(line.split()[0]) :\n",
    "                    outlist.append([name, wavedir, froude] + line.split())\n",
    "                \n",
    "    return outlist\n",
    "\n",
    "#Function to check whether the string is a number format\n",
    "def is_number(astring):\n",
    "    try:\n",
    "        float(astring)\n",
    "        return True\n",
    "    except ValueError:\n",
    "        return False\n",
    "    \n",
    "    \n",
    "def calculateDAF() :\n",
    "    pass\n",
    "\n"
   ]
  },
  {
   "cell_type": "code",
   "execution_count": 49,
   "metadata": {},
   "outputs": [],
   "source": [
    "staticlist = readSesamOutput('STA_RESP_Period.LIS')\n",
    "dynamiclist = readSesamOutput('DYN_RESP_Period.LIS')"
   ]
  },
  {
   "cell_type": "code",
   "execution_count": 65,
   "metadata": {},
   "outputs": [
    {
     "name": "stdout",
     "output_type": "stream",
     "text": [
      "['FORCE1', '0.00', '0.000', '25.000', '9.149E+03', '3.361E+03', '9.747E+03', '20.173']\n",
      "['FORCE1', '0.00', '0.000', '20.000', '4.686E+03', '3.306E+03', '5.735E+03', '35.205']\n",
      "['FORCE1', '0.00', '0.000', '16.667', '2.717E+03', '3.039E+03', '4.077E+03', '48.202']\n",
      "['FORCE1', '0.00', '0.000', '13.558', '1.474E+03', '2.630E+03', '3.015E+03', '60.733']\n",
      "['FORCE1', '0.00', '0.000', '12.584', '1.180E+03', '2.482E+03', '2.749E+03', '64.566']\n",
      "['FORCE1', '0.00', '0.000', '12.124', '1.065E+03', '2.411E+03', '2.635E+03', '66.168']\n",
      "['FORCE1', '0.00', '0.000', '11.255', '8.181E+02', '2.250E+03', '2.394E+03', '70.021']\n",
      "['FORCE1', '0.00', '0.000', '10.499', '6.080E+02', '2.087E+03', '2.174E+03', '73.757']\n",
      "['FORCE1', '0.00', '0.000', '9.747', '4.096E+02', '1.892E+03', '1.935E+03', '77.784']\n",
      "['FORCE1', '0.00', '0.000', '9.654', '3.847E+02', '1.865E+03', '1.904E+03', '78.343']\n"
     ]
    }
   ],
   "source": [
    "print(*staticlist[0:10], sep='\\n')"
   ]
  },
  {
   "cell_type": "code",
   "execution_count": 69,
   "metadata": {},
   "outputs": [],
   "source": [
    "#Convert python list into pandas dataframe, with corresponding column\n",
    "dfStatic = pd.DataFrame(staticlist, columns = ['Name', 'WaveDir','Froude','Period','RealVal','ImagVal', 'Amplitude','Phase'])\n",
    "dfDynamic = pd.DataFrame(dynamiclist, columns = ['Name', 'WaveDir','Froude','Period','RealVal','ImagVal', 'Amplitude','Phase'])"
   ]
  },
  {
   "cell_type": "code",
   "execution_count": 70,
   "metadata": {},
   "outputs": [
    {
     "name": "stdout",
     "output_type": "stream",
     "text": [
      "     Name WaveDir Froude  Period    RealVal    ImagVal  Amplitude   Phase\n",
      "0  FORCE1    0.00  0.000  25.000  9.149E+03  3.361E+03  9.747E+03  20.173\n",
      "1  FORCE1    0.00  0.000  20.000  4.686E+03  3.306E+03  5.735E+03  35.205\n",
      "2  FORCE1    0.00  0.000  16.667  2.717E+03  3.039E+03  4.077E+03  48.202\n",
      "3  FORCE1    0.00  0.000  13.558  1.474E+03  2.630E+03  3.015E+03  60.733\n",
      "4  FORCE1    0.00  0.000  12.584  1.180E+03  2.482E+03  2.749E+03  64.566\n",
      "5  FORCE1    0.00  0.000  12.124  1.065E+03  2.411E+03  2.635E+03  66.168\n",
      "6  FORCE1    0.00  0.000  11.255  8.181E+02  2.250E+03  2.394E+03  70.021\n",
      "7  FORCE1    0.00  0.000  10.499  6.080E+02  2.087E+03  2.174E+03  73.757\n",
      "8  FORCE1    0.00  0.000   9.747  4.096E+02  1.892E+03  1.935E+03  77.784\n",
      "9  FORCE1    0.00  0.000   9.654  3.847E+02  1.865E+03  1.904E+03  78.343\n",
      "      Name WaveDir Froude  Period     RealVal     ImagVal  Amplitude     Phase\n",
      "0  TOT_NXX    0.00  0.000  25.000  -2.006E+03   2.104E+03  2.907E+03   133.638\n",
      "1  TOT_NXX    0.00  0.000  20.000  -1.436E+03   1.003E+03  1.752E+03   145.055\n",
      "2  TOT_NXX    0.00  0.000  16.667  -1.167E+03   5.455E+02  1.288E+03   154.942\n",
      "3  TOT_NXX    0.00  0.000  13.557  -9.032E+02   1.189E+02  9.110E+02   172.497\n",
      "4  TOT_NXX    0.00  0.000  12.583  -8.403E+02   5.324E+01  8.420E+02   176.375\n",
      "5  TOT_NXX    0.00  0.000  12.124  -8.105E+02   2.834E+01  8.110E+02   177.997\n",
      "6  TOT_NXX    0.00  0.000  11.255  -7.398E+02  -2.418E+01  7.402E+02  -178.128\n",
      "7  TOT_NXX    0.00  0.000  10.499  -6.689E+02  -6.540E+01  6.721E+02  -174.415\n",
      "8  TOT_NXX    0.00  0.000   9.747  -5.833E+02  -1.018E+02  5.921E+02  -170.103\n",
      "9  TOT_NXX    0.00  0.000   9.653  -5.722E+02  -1.056E+02  5.818E+02  -169.547\n"
     ]
    }
   ],
   "source": [
    "print(dfStatic.head(10))\n",
    "print(dfDynamic.head(10))"
   ]
  },
  {
   "cell_type": "code",
   "execution_count": 53,
   "metadata": {},
   "outputs": [
    {
     "data": {
      "text/html": [
       "<div>\n",
       "<style scoped>\n",
       "    .dataframe tbody tr th:only-of-type {\n",
       "        vertical-align: middle;\n",
       "    }\n",
       "\n",
       "    .dataframe tbody tr th {\n",
       "        vertical-align: top;\n",
       "    }\n",
       "\n",
       "    .dataframe thead th {\n",
       "        text-align: right;\n",
       "    }\n",
       "</style>\n",
       "<table border=\"1\" class=\"dataframe\">\n",
       "  <thead>\n",
       "    <tr style=\"text-align: right;\">\n",
       "      <th></th>\n",
       "      <th>Name</th>\n",
       "      <th>WaveDir</th>\n",
       "      <th>Froude</th>\n",
       "      <th>Period</th>\n",
       "      <th>RealVal</th>\n",
       "      <th>ImagVal</th>\n",
       "      <th>Amplitude</th>\n",
       "      <th>Phase</th>\n",
       "    </tr>\n",
       "  </thead>\n",
       "  <tbody>\n",
       "    <tr>\n",
       "      <th>0</th>\n",
       "      <td>FORCE1</td>\n",
       "      <td>0.00</td>\n",
       "      <td>0.000</td>\n",
       "      <td>25.000</td>\n",
       "      <td>9.149E+03</td>\n",
       "      <td>3.361E+03</td>\n",
       "      <td>9.747E+03</td>\n",
       "      <td>20.173</td>\n",
       "    </tr>\n",
       "    <tr>\n",
       "      <th>1</th>\n",
       "      <td>FORCE1</td>\n",
       "      <td>0.00</td>\n",
       "      <td>0.000</td>\n",
       "      <td>20.000</td>\n",
       "      <td>4.686E+03</td>\n",
       "      <td>3.306E+03</td>\n",
       "      <td>5.735E+03</td>\n",
       "      <td>35.205</td>\n",
       "    </tr>\n",
       "    <tr>\n",
       "      <th>2</th>\n",
       "      <td>FORCE1</td>\n",
       "      <td>0.00</td>\n",
       "      <td>0.000</td>\n",
       "      <td>16.667</td>\n",
       "      <td>2.717E+03</td>\n",
       "      <td>3.039E+03</td>\n",
       "      <td>4.077E+03</td>\n",
       "      <td>48.202</td>\n",
       "    </tr>\n",
       "    <tr>\n",
       "      <th>3</th>\n",
       "      <td>FORCE1</td>\n",
       "      <td>0.00</td>\n",
       "      <td>0.000</td>\n",
       "      <td>13.558</td>\n",
       "      <td>1.474E+03</td>\n",
       "      <td>2.630E+03</td>\n",
       "      <td>3.015E+03</td>\n",
       "      <td>60.733</td>\n",
       "    </tr>\n",
       "    <tr>\n",
       "      <th>4</th>\n",
       "      <td>FORCE1</td>\n",
       "      <td>0.00</td>\n",
       "      <td>0.000</td>\n",
       "      <td>12.584</td>\n",
       "      <td>1.180E+03</td>\n",
       "      <td>2.482E+03</td>\n",
       "      <td>2.749E+03</td>\n",
       "      <td>64.566</td>\n",
       "    </tr>\n",
       "  </tbody>\n",
       "</table>\n",
       "</div>"
      ],
      "text/plain": [
       "     Name WaveDir Froude  Period    RealVal    ImagVal  Amplitude   Phase\n",
       "0  FORCE1    0.00  0.000  25.000  9.149E+03  3.361E+03  9.747E+03  20.173\n",
       "1  FORCE1    0.00  0.000  20.000  4.686E+03  3.306E+03  5.735E+03  35.205\n",
       "2  FORCE1    0.00  0.000  16.667  2.717E+03  3.039E+03  4.077E+03  48.202\n",
       "3  FORCE1    0.00  0.000  13.558  1.474E+03  2.630E+03  3.015E+03  60.733\n",
       "4  FORCE1    0.00  0.000  12.584  1.180E+03  2.482E+03  2.749E+03  64.566"
      ]
     },
     "execution_count": 53,
     "metadata": {},
     "output_type": "execute_result"
    }
   ],
   "source": [
    "force1 = dfStatic[dfStatic.Name == \"FORCE1\"]\n",
    "force1.head(5)"
   ]
  },
  {
   "cell_type": "code",
   "execution_count": 55,
   "metadata": {},
   "outputs": [
    {
     "data": {
      "text/plain": [
       "Name          object\n",
       "WaveDir      float64\n",
       "Froude        object\n",
       "Period       float64\n",
       "RealVal       object\n",
       "ImagVal       object\n",
       "Amplitude    float64\n",
       "Phase         object\n",
       "dtype: object"
      ]
     },
     "execution_count": 55,
     "metadata": {},
     "output_type": "execute_result"
    }
   ],
   "source": [
    "# Change data type into float\n",
    "dfStatic = dfStatic.astype({\"WaveDir\": np.float, \"Period\": np.float, \"Amplitude\" : np.float})\n",
    "dfStatic.dtypes"
   ]
  },
  {
   "cell_type": "code",
   "execution_count": 56,
   "metadata": {},
   "outputs": [],
   "source": [
    "#filtered_df = df[(df['year'] == 2018) & (df['month'] == 2)]\n",
    "#Filter each direction and each component\n",
    "force1_0Deg = dfStatic[(dfStatic['Name'] == 'FORCE1') & (dfStatic['WaveDir'] == 0.0)]\n",
    "force2_0Deg = dfStatic[(dfStatic['Name'] == 'FORCE2') & (dfStatic['WaveDir'] == 0.0)]\n",
    "force3_0Deg = dfStatic[(dfStatic['Name'] == 'FORCE3') & (dfStatic['WaveDir'] == 0.0)]"
   ]
  },
  {
   "cell_type": "code",
   "execution_count": 57,
   "metadata": {},
   "outputs": [
    {
     "data": {
      "text/html": [
       "<div>\n",
       "<style scoped>\n",
       "    .dataframe tbody tr th:only-of-type {\n",
       "        vertical-align: middle;\n",
       "    }\n",
       "\n",
       "    .dataframe tbody tr th {\n",
       "        vertical-align: top;\n",
       "    }\n",
       "\n",
       "    .dataframe thead th {\n",
       "        text-align: right;\n",
       "    }\n",
       "</style>\n",
       "<table border=\"1\" class=\"dataframe\">\n",
       "  <thead>\n",
       "    <tr style=\"text-align: right;\">\n",
       "      <th></th>\n",
       "      <th>Name</th>\n",
       "      <th>WaveDir</th>\n",
       "      <th>Froude</th>\n",
       "      <th>Period</th>\n",
       "      <th>RealVal</th>\n",
       "      <th>ImagVal</th>\n",
       "      <th>Amplitude</th>\n",
       "      <th>Phase</th>\n",
       "    </tr>\n",
       "  </thead>\n",
       "  <tbody>\n",
       "    <tr>\n",
       "      <th>0</th>\n",
       "      <td>FORCE1</td>\n",
       "      <td>0.0</td>\n",
       "      <td>0.000</td>\n",
       "      <td>25.000</td>\n",
       "      <td>9.149E+03</td>\n",
       "      <td>3.361E+03</td>\n",
       "      <td>9747.0</td>\n",
       "      <td>20.173</td>\n",
       "    </tr>\n",
       "    <tr>\n",
       "      <th>1</th>\n",
       "      <td>FORCE1</td>\n",
       "      <td>0.0</td>\n",
       "      <td>0.000</td>\n",
       "      <td>20.000</td>\n",
       "      <td>4.686E+03</td>\n",
       "      <td>3.306E+03</td>\n",
       "      <td>5735.0</td>\n",
       "      <td>35.205</td>\n",
       "    </tr>\n",
       "    <tr>\n",
       "      <th>2</th>\n",
       "      <td>FORCE1</td>\n",
       "      <td>0.0</td>\n",
       "      <td>0.000</td>\n",
       "      <td>16.667</td>\n",
       "      <td>2.717E+03</td>\n",
       "      <td>3.039E+03</td>\n",
       "      <td>4077.0</td>\n",
       "      <td>48.202</td>\n",
       "    </tr>\n",
       "    <tr>\n",
       "      <th>3</th>\n",
       "      <td>FORCE1</td>\n",
       "      <td>0.0</td>\n",
       "      <td>0.000</td>\n",
       "      <td>13.558</td>\n",
       "      <td>1.474E+03</td>\n",
       "      <td>2.630E+03</td>\n",
       "      <td>3015.0</td>\n",
       "      <td>60.733</td>\n",
       "    </tr>\n",
       "    <tr>\n",
       "      <th>4</th>\n",
       "      <td>FORCE1</td>\n",
       "      <td>0.0</td>\n",
       "      <td>0.000</td>\n",
       "      <td>12.584</td>\n",
       "      <td>1.180E+03</td>\n",
       "      <td>2.482E+03</td>\n",
       "      <td>2749.0</td>\n",
       "      <td>64.566</td>\n",
       "    </tr>\n",
       "  </tbody>\n",
       "</table>\n",
       "</div>"
      ],
      "text/plain": [
       "     Name  WaveDir Froude  Period    RealVal    ImagVal  Amplitude   Phase\n",
       "0  FORCE1      0.0  0.000  25.000  9.149E+03  3.361E+03     9747.0  20.173\n",
       "1  FORCE1      0.0  0.000  20.000  4.686E+03  3.306E+03     5735.0  35.205\n",
       "2  FORCE1      0.0  0.000  16.667  2.717E+03  3.039E+03     4077.0  48.202\n",
       "3  FORCE1      0.0  0.000  13.558  1.474E+03  2.630E+03     3015.0  60.733\n",
       "4  FORCE1      0.0  0.000  12.584  1.180E+03  2.482E+03     2749.0  64.566"
      ]
     },
     "execution_count": 57,
     "metadata": {},
     "output_type": "execute_result"
    }
   ],
   "source": [
    "force1_0Deg.head(5)"
   ]
  },
  {
   "cell_type": "code",
   "execution_count": 58,
   "metadata": {},
   "outputs": [
    {
     "data": {
      "text/html": [
       "<div>\n",
       "<style scoped>\n",
       "    .dataframe tbody tr th:only-of-type {\n",
       "        vertical-align: middle;\n",
       "    }\n",
       "\n",
       "    .dataframe tbody tr th {\n",
       "        vertical-align: top;\n",
       "    }\n",
       "\n",
       "    .dataframe thead th {\n",
       "        text-align: right;\n",
       "    }\n",
       "</style>\n",
       "<table border=\"1\" class=\"dataframe\">\n",
       "  <thead>\n",
       "    <tr style=\"text-align: right;\">\n",
       "      <th></th>\n",
       "      <th>Name</th>\n",
       "      <th>WaveDir</th>\n",
       "      <th>Froude</th>\n",
       "      <th>Period</th>\n",
       "      <th>RealVal</th>\n",
       "      <th>ImagVal</th>\n",
       "      <th>Amplitude</th>\n",
       "      <th>Phase</th>\n",
       "    </tr>\n",
       "  </thead>\n",
       "  <tbody>\n",
       "    <tr>\n",
       "      <th>480</th>\n",
       "      <td>FORCE2</td>\n",
       "      <td>0.0</td>\n",
       "      <td>0.000</td>\n",
       "      <td>25.000</td>\n",
       "      <td>-3.068E+01</td>\n",
       "      <td>2.822E+01</td>\n",
       "      <td>41.68</td>\n",
       "      <td>137.391</td>\n",
       "    </tr>\n",
       "    <tr>\n",
       "      <th>481</th>\n",
       "      <td>FORCE2</td>\n",
       "      <td>0.0</td>\n",
       "      <td>0.000</td>\n",
       "      <td>20.000</td>\n",
       "      <td>-4.193E+01</td>\n",
       "      <td>2.315E+01</td>\n",
       "      <td>47.90</td>\n",
       "      <td>151.091</td>\n",
       "    </tr>\n",
       "    <tr>\n",
       "      <th>482</th>\n",
       "      <td>FORCE2</td>\n",
       "      <td>0.0</td>\n",
       "      <td>0.000</td>\n",
       "      <td>16.667</td>\n",
       "      <td>-4.671E+01</td>\n",
       "      <td>1.275E+01</td>\n",
       "      <td>48.42</td>\n",
       "      <td>164.726</td>\n",
       "    </tr>\n",
       "    <tr>\n",
       "      <th>483</th>\n",
       "      <td>FORCE2</td>\n",
       "      <td>0.0</td>\n",
       "      <td>0.000</td>\n",
       "      <td>13.558</td>\n",
       "      <td>-4.289E+01</td>\n",
       "      <td>3.461E+00</td>\n",
       "      <td>43.03</td>\n",
       "      <td>175.386</td>\n",
       "    </tr>\n",
       "    <tr>\n",
       "      <th>484</th>\n",
       "      <td>FORCE2</td>\n",
       "      <td>0.0</td>\n",
       "      <td>0.000</td>\n",
       "      <td>12.584</td>\n",
       "      <td>-3.929E+01</td>\n",
       "      <td>1.109E+00</td>\n",
       "      <td>39.31</td>\n",
       "      <td>178.384</td>\n",
       "    </tr>\n",
       "  </tbody>\n",
       "</table>\n",
       "</div>"
      ],
      "text/plain": [
       "       Name  WaveDir Froude  Period     RealVal    ImagVal  Amplitude    Phase\n",
       "480  FORCE2      0.0  0.000  25.000  -3.068E+01  2.822E+01      41.68  137.391\n",
       "481  FORCE2      0.0  0.000  20.000  -4.193E+01  2.315E+01      47.90  151.091\n",
       "482  FORCE2      0.0  0.000  16.667  -4.671E+01  1.275E+01      48.42  164.726\n",
       "483  FORCE2      0.0  0.000  13.558  -4.289E+01  3.461E+00      43.03  175.386\n",
       "484  FORCE2      0.0  0.000  12.584  -3.929E+01  1.109E+00      39.31  178.384"
      ]
     },
     "execution_count": 58,
     "metadata": {},
     "output_type": "execute_result"
    }
   ],
   "source": [
    "force2_0Deg.head(5)"
   ]
  },
  {
   "cell_type": "code",
   "execution_count": 59,
   "metadata": {},
   "outputs": [
    {
     "data": {
      "text/html": [
       "<div>\n",
       "<style scoped>\n",
       "    .dataframe tbody tr th:only-of-type {\n",
       "        vertical-align: middle;\n",
       "    }\n",
       "\n",
       "    .dataframe tbody tr th {\n",
       "        vertical-align: top;\n",
       "    }\n",
       "\n",
       "    .dataframe thead th {\n",
       "        text-align: right;\n",
       "    }\n",
       "</style>\n",
       "<table border=\"1\" class=\"dataframe\">\n",
       "  <thead>\n",
       "    <tr style=\"text-align: right;\">\n",
       "      <th></th>\n",
       "      <th>Name</th>\n",
       "      <th>WaveDir</th>\n",
       "      <th>Froude</th>\n",
       "      <th>Period</th>\n",
       "      <th>RealVal</th>\n",
       "      <th>ImagVal</th>\n",
       "      <th>Amplitude</th>\n",
       "      <th>Phase</th>\n",
       "    </tr>\n",
       "  </thead>\n",
       "  <tbody>\n",
       "    <tr>\n",
       "      <th>960</th>\n",
       "      <td>FORCE3</td>\n",
       "      <td>0.0</td>\n",
       "      <td>0.000</td>\n",
       "      <td>25.000</td>\n",
       "      <td>-9.233E+02</td>\n",
       "      <td>3.038E+03</td>\n",
       "      <td>3175.0</td>\n",
       "      <td>106.905</td>\n",
       "    </tr>\n",
       "    <tr>\n",
       "      <th>961</th>\n",
       "      <td>FORCE3</td>\n",
       "      <td>0.0</td>\n",
       "      <td>0.000</td>\n",
       "      <td>20.000</td>\n",
       "      <td>-9.517E+02</td>\n",
       "      <td>1.703E+03</td>\n",
       "      <td>1951.0</td>\n",
       "      <td>119.198</td>\n",
       "    </tr>\n",
       "    <tr>\n",
       "      <th>962</th>\n",
       "      <td>FORCE3</td>\n",
       "      <td>0.0</td>\n",
       "      <td>0.000</td>\n",
       "      <td>16.667</td>\n",
       "      <td>-9.364E+02</td>\n",
       "      <td>1.127E+03</td>\n",
       "      <td>1466.0</td>\n",
       "      <td>129.713</td>\n",
       "    </tr>\n",
       "    <tr>\n",
       "      <th>963</th>\n",
       "      <td>FORCE3</td>\n",
       "      <td>0.0</td>\n",
       "      <td>0.000</td>\n",
       "      <td>13.558</td>\n",
       "      <td>-8.156E+02</td>\n",
       "      <td>5.754E+02</td>\n",
       "      <td>998.2</td>\n",
       "      <td>144.796</td>\n",
       "    </tr>\n",
       "    <tr>\n",
       "      <th>964</th>\n",
       "      <td>FORCE3</td>\n",
       "      <td>0.0</td>\n",
       "      <td>0.000</td>\n",
       "      <td>12.584</td>\n",
       "      <td>-7.858E+02</td>\n",
       "      <td>4.841E+02</td>\n",
       "      <td>923.0</td>\n",
       "      <td>148.364</td>\n",
       "    </tr>\n",
       "  </tbody>\n",
       "</table>\n",
       "</div>"
      ],
      "text/plain": [
       "       Name  WaveDir Froude  Period     RealVal    ImagVal  Amplitude    Phase\n",
       "960  FORCE3      0.0  0.000  25.000  -9.233E+02  3.038E+03     3175.0  106.905\n",
       "961  FORCE3      0.0  0.000  20.000  -9.517E+02  1.703E+03     1951.0  119.198\n",
       "962  FORCE3      0.0  0.000  16.667  -9.364E+02  1.127E+03     1466.0  129.713\n",
       "963  FORCE3      0.0  0.000  13.558  -8.156E+02  5.754E+02      998.2  144.796\n",
       "964  FORCE3      0.0  0.000  12.584  -7.858E+02  4.841E+02      923.0  148.364"
      ]
     },
     "execution_count": 59,
     "metadata": {},
     "output_type": "execute_result"
    }
   ],
   "source": [
    "force3_0Deg.head(5)"
   ]
  },
  {
   "cell_type": "code",
   "execution_count": 60,
   "metadata": {},
   "outputs": [
    {
     "data": {
      "text/plain": [
       "numpy.ndarray"
      ]
     },
     "execution_count": 60,
     "metadata": {},
     "output_type": "execute_result"
    }
   ],
   "source": [
    "#dfValues = df['one'].values\n",
    "#Convert to numpy array\n",
    "force1_0DegNP = force1_0Deg[['Name', 'Period', 'Amplitude']].values\n",
    "force2_0DegNP = force2_0Deg[['Name', 'Period', 'Amplitude']].values\n",
    "type(force1_0DegNP)"
   ]
  },
  {
   "cell_type": "code",
   "execution_count": 64,
   "metadata": {},
   "outputs": [
    {
     "data": {
      "text/plain": [
       "numpy.ndarray"
      ]
     },
     "execution_count": 64,
     "metadata": {},
     "output_type": "execute_result"
    }
   ],
   "source": [
    "#Calculate the base shear resultant (Force1^2 + Force2^2)^0.5\n",
    "bsStatic = force1_0DegNP[:, 2]**2 + force2_0DegNP[:, 2]**2\n",
    "type(bsStatic)"
   ]
  },
  {
   "cell_type": "code",
   "execution_count": 63,
   "metadata": {},
   "outputs": [
    {
     "data": {
      "text/plain": [
       "array([9747.08911534, 5735.20003226, 4077.28751701, 3015.30704587,\n",
       "       2749.28104713, 2635.26257515, 2394.22222536, 2174.18185403,\n",
       "       1935.14403394, 1904.13903382, 1846.1310896 , 1525.08818106,\n",
       "       1499.08549459, 1224.06200104,  973.15199923,  757.45575191,\n",
       "        564.6802213 ,  422.83897124,  363.01977481,  360.33098673,\n",
       "        390.62129435,  393.04355344,  338.84704514,  196.05857008,\n",
       "        139.01281416,  156.74150184,  180.41000554,  308.66663506,\n",
       "        337.22668281,  469.2059356 ,  645.12838792,  704.812099  ,\n",
       "        827.18791916,  899.67764916, 1003.06696093, 1029.06504406,\n",
       "       1083.06126807, 1092.06076314, 1148.05820131, 1247.05563966,\n",
       "       1385.05640679, 1483.06017734, 1534.06507584,  516.12197047,\n",
       "        177.50286128, 1326.09472607,  654.16709498,  485.71611503,\n",
       "        201.78221552,  751.69772016, 1166.44012345, 1144.35994774,\n",
       "        699.6670391 ,  181.4570153 ,  422.58598238,  281.25038029,\n",
       "        467.24119039,  458.99857298, 1112.18820871,  403.87979957])"
      ]
     },
     "execution_count": 63,
     "metadata": {},
     "output_type": "execute_result"
    }
   ],
   "source": [
    "np.sqrt(np.float64(bsStatic))"
   ]
  },
  {
   "cell_type": "code",
   "execution_count": null,
   "metadata": {},
   "outputs": [],
   "source": [
    "|"
   ]
  }
 ],
 "metadata": {
  "kernelspec": {
   "display_name": "Python 3",
   "language": "python",
   "name": "python3"
  },
  "language_info": {
   "codemirror_mode": {
    "name": "ipython",
    "version": 3
   },
   "file_extension": ".py",
   "mimetype": "text/x-python",
   "name": "python",
   "nbconvert_exporter": "python",
   "pygments_lexer": "ipython3",
   "version": "3.7.3"
  }
 },
 "nbformat": 4,
 "nbformat_minor": 2
}
